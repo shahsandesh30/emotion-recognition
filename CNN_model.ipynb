{
 "cells": [
  {
   "cell_type": "code",
   "execution_count": 1,
   "metadata": {},
   "outputs": [
    {
     "name": "stderr",
     "output_type": "stream",
     "text": [
      "Using TensorFlow backend.\n",
      "/home/sandesh/anaconda3/lib/python3.7/site-packages/tensorflow/python/framework/dtypes.py:526: FutureWarning: Passing (type, 1) or '1type' as a synonym of type is deprecated; in a future version of numpy, it will be understood as (type, (1,)) / '(1,)type'.\n",
      "  _np_qint8 = np.dtype([(\"qint8\", np.int8, 1)])\n",
      "/home/sandesh/anaconda3/lib/python3.7/site-packages/tensorflow/python/framework/dtypes.py:527: FutureWarning: Passing (type, 1) or '1type' as a synonym of type is deprecated; in a future version of numpy, it will be understood as (type, (1,)) / '(1,)type'.\n",
      "  _np_quint8 = np.dtype([(\"quint8\", np.uint8, 1)])\n",
      "/home/sandesh/anaconda3/lib/python3.7/site-packages/tensorflow/python/framework/dtypes.py:528: FutureWarning: Passing (type, 1) or '1type' as a synonym of type is deprecated; in a future version of numpy, it will be understood as (type, (1,)) / '(1,)type'.\n",
      "  _np_qint16 = np.dtype([(\"qint16\", np.int16, 1)])\n",
      "/home/sandesh/anaconda3/lib/python3.7/site-packages/tensorflow/python/framework/dtypes.py:529: FutureWarning: Passing (type, 1) or '1type' as a synonym of type is deprecated; in a future version of numpy, it will be understood as (type, (1,)) / '(1,)type'.\n",
      "  _np_quint16 = np.dtype([(\"quint16\", np.uint16, 1)])\n",
      "/home/sandesh/anaconda3/lib/python3.7/site-packages/tensorflow/python/framework/dtypes.py:530: FutureWarning: Passing (type, 1) or '1type' as a synonym of type is deprecated; in a future version of numpy, it will be understood as (type, (1,)) / '(1,)type'.\n",
      "  _np_qint32 = np.dtype([(\"qint32\", np.int32, 1)])\n",
      "/home/sandesh/anaconda3/lib/python3.7/site-packages/tensorflow/python/framework/dtypes.py:535: FutureWarning: Passing (type, 1) or '1type' as a synonym of type is deprecated; in a future version of numpy, it will be understood as (type, (1,)) / '(1,)type'.\n",
      "  np_resource = np.dtype([(\"resource\", np.ubyte, 1)])\n"
     ]
    }
   ],
   "source": [
    "import os\n",
    "import numpy as np\n",
    "import matplotlib.pyplot as plt\n",
    "from keras.preprocessing.image import ImageDataGenerator\n",
    "from keras.models import Sequential\n",
    "from keras.layers import Dense, Flatten, BatchNormalization\n",
    "from keras.layers import Conv2D, MaxPooling2D, Dropout, Activation\n",
    "from keras.optimizers import Adam\n",
    "from keras.callbacks import ModelCheckpoint, EarlyStopping\n",
    "import time"
   ]
  },
  {
   "cell_type": "code",
   "execution_count": 2,
   "metadata": {},
   "outputs": [],
   "source": [
    "current_dir = os.getcwd()\n",
    "train_dir = os.path.join(current_dir, 'Emotion Dataset/train')\n",
    "validation_dir = os.path.join(current_dir, 'Emotion Dataset/validation')\n",
    "\n",
    "train_datasets = os.listdir(train_dir)\n",
    "validation_datasets = os.listdir(validation_dir)"
   ]
  },
  {
   "cell_type": "code",
   "execution_count": 3,
   "metadata": {},
   "outputs": [
    {
     "name": "stdout",
     "output_type": "stream",
     "text": [
      "Train datasets:  28709\n",
      "Validation datasets:  3589\n"
     ]
    }
   ],
   "source": [
    "train_dataset_count = 0\n",
    "for i in train_datasets:\n",
    "    data_path = os.path.join(train_dir, str(i))\n",
    "    train_dataset_count += len(os.listdir(data_path))   \n",
    "print('Train datasets: ',train_dataset_count)\n",
    "\n",
    "validation_dataset_count = 0\n",
    "for i in validation_datasets:\n",
    "    data_path = os.path.join(validation_dir, str(i))\n",
    "    validation_dataset_count += len(os.listdir(data_path))   \n",
    "print('Validation datasets: ', validation_dataset_count)"
   ]
  },
  {
   "cell_type": "code",
   "execution_count": 4,
   "metadata": {},
   "outputs": [],
   "source": [
    "batch_size = 32\n",
    "img_rows, img_cols = 32, 32\n",
    "epochs = 100"
   ]
  },
  {
   "cell_type": "code",
   "execution_count": 5,
   "metadata": {},
   "outputs": [
    {
     "name": "stdout",
     "output_type": "stream",
     "text": [
      "Found 28709 images belonging to 7 classes.\n",
      "Found 3589 images belonging to 7 classes.\n"
     ]
    }
   ],
   "source": [
    "train_datagen = ImageDataGenerator(rescale=1./255,\n",
    "                                  rotation_range=40,\n",
    "                                  width_shift_range=0.3,\n",
    "                                  height_shift_range=0.3,\n",
    "                                  shear_range=0.3,\n",
    "                                  horizontal_flip=True,\n",
    "                                  zoom_range=0.3)\n",
    "\n",
    "validation_datagen = ImageDataGenerator(rescale=1./255)\n",
    "\n",
    "train_generator = train_datagen.flow_from_directory(\n",
    "    train_dir,\n",
    "    color_mode='grayscale',\n",
    "    target_size=(img_rows, img_cols),\n",
    "    batch_size=batch_size,\n",
    "    class_mode='categorical',\n",
    "    shuffle=True\n",
    ")\n",
    "\n",
    "validation_generator = validation_datagen.flow_from_directory(\n",
    "    validation_dir,\n",
    "    color_mode='grayscale',\n",
    "    target_size=(img_rows, img_cols),\n",
    "    batch_size=batch_size,\n",
    "    class_mode='categorical'\n",
    ")"
   ]
  },
  {
   "cell_type": "code",
   "execution_count": 6,
   "metadata": {},
   "outputs": [
    {
     "name": "stdout",
     "output_type": "stream",
     "text": [
      "WARNING:tensorflow:From /home/sandesh/anaconda3/lib/python3.7/site-packages/tensorflow/python/ops/resource_variable_ops.py:435: colocate_with (from tensorflow.python.framework.ops) is deprecated and will be removed in a future version.\n",
      "Instructions for updating:\n",
      "Colocations handled automatically by placer.\n"
     ]
    }
   ],
   "source": [
    "model = Sequential()\n",
    "\n",
    "model.add(Conv2D(32, (3,3), padding='same', kernel_initializer='he_normal', input_shape=(img_rows, img_cols, 1)))\n",
    "model.add(Activation('elu'))\n",
    "model.add(BatchNormalization())\n",
    "model.add(MaxPooling2D(pool_size=(2,2)))\n",
    "model.add(Dropout(0.2))\n",
    "\n",
    "model.add(Conv2D(64, (3,3), padding='same', kernel_initializer='he_normal', activation='elu'))\n",
    "model.add(BatchNormalization())\n",
    "model.add(Conv2D(64, (3,3), padding='same', kernel_initializer='he_normal', activation='elu'))\n",
    "model.add(BatchNormalization())\n",
    "model.add(MaxPooling2D(pool_size=(2,2)))\n",
    "model.add(Dropout(0.2))\n",
    "\n",
    "model.add(Conv2D(128, (3,3), padding='same', kernel_initializer='he_normal', activation='elu'))\n",
    "model.add(BatchNormalization())\n",
    "model.add(Conv2D(128, (3,3), padding='same', kernel_initializer='he_normal', activation='elu'))\n",
    "model.add(BatchNormalization())\n",
    "model.add(MaxPooling2D(pool_size=(2,2)))\n",
    "model.add(Dropout(0.2))\n",
    "\n",
    "model.add(Conv2D(256, (3,3), padding='same', kernel_initializer='he_normal', activation='elu'))\n",
    "model.add(BatchNormalization())\n",
    "model.add(Conv2D(256, (3,3), padding='same', kernel_initializer='he_normal', activation='elu'))\n",
    "model.add(BatchNormalization())\n",
    "model.add(MaxPooling2D(pool_size=(2,2)))\n",
    "model.add(Dropout(0.2))\n",
    "\n",
    "model.add(Flatten())\n",
    "model.add(Dense(64, kernel_initializer='he_normal', activation='elu'))\n",
    "model.add(BatchNormalization())\n",
    "model.add(Dropout(0.5))\n",
    "\n",
    "model.add(Dense(64, kernel_initializer='he_normal', activation='elu'))\n",
    "model.add(BatchNormalization())\n",
    "model.add(Dropout(0.5))\n",
    "\n",
    "model.add(Dense(len(train_datasets), kernel_initializer='he_normal', activation='softmax'))"
   ]
  },
  {
   "cell_type": "code",
   "execution_count": 7,
   "metadata": {},
   "outputs": [],
   "source": [
    "checkpoint = ModelCheckpoint('facial_emotion_recognition.h5',\n",
    "                            monitor='val_accuracy',\n",
    "                            mode='max',\n",
    "                            save_best_only=True,\n",
    "                            verbose=1)\n",
    "\n",
    "early_stopping = EarlyStopping(monitor='val_accuracy',\n",
    "                              min_delta=0,\n",
    "                              patience=15,\n",
    "                              verbose=1,\n",
    "                              mode='max',\n",
    "                              restore_best_weights=True)\n",
    "\n",
    "callbacks = [checkpoint, early_stopping]"
   ]
  },
  {
   "cell_type": "code",
   "execution_count": 8,
   "metadata": {},
   "outputs": [],
   "source": [
    "model.compile(optimizer=Adam(),\n",
    "             loss='categorical_crossentropy',\n",
    "             metrics=['accuracy'])"
   ]
  },
  {
   "cell_type": "code",
   "execution_count": 9,
   "metadata": {},
   "outputs": [
    {
     "name": "stdout",
     "output_type": "stream",
     "text": [
      "WARNING:tensorflow:From /home/sandesh/anaconda3/lib/python3.7/site-packages/tensorflow/python/ops/math_ops.py:3066: to_int32 (from tensorflow.python.ops.math_ops) is deprecated and will be removed in a future version.\n",
      "Instructions for updating:\n",
      "Use tf.cast instead.\n",
      "Epoch 1/100\n",
      "897/897 [==============================] - 225s 250ms/step - loss: 2.0985 - accuracy: 0.1975 - val_loss: 1.7886 - val_accuracy: 0.2500\n",
      "\n",
      "Epoch 00001: val_accuracy improved from -inf to 0.25000, saving model to facial_emotion_recognition.h5\n",
      "Epoch 2/100\n",
      "897/897 [==============================] - 227s 254ms/step - loss: 1.8132 - accuracy: 0.2450 - val_loss: 1.8129 - val_accuracy: 0.2525\n",
      "\n",
      "Epoch 00002: val_accuracy improved from 0.25000 to 0.25246, saving model to facial_emotion_recognition.h5\n",
      "Epoch 3/100\n",
      "897/897 [==============================] - 229s 256ms/step - loss: 1.7898 - accuracy: 0.2570 - val_loss: 1.8757 - val_accuracy: 0.2572\n",
      "\n",
      "Epoch 00003: val_accuracy improved from 0.25246 to 0.25724, saving model to facial_emotion_recognition.h5\n",
      "Epoch 4/100\n",
      "897/897 [==============================] - 230s 256ms/step - loss: 1.7723 - accuracy: 0.2679 - val_loss: 1.6417 - val_accuracy: 0.3180\n",
      "\n",
      "Epoch 00004: val_accuracy improved from 0.25724 to 0.31796, saving model to facial_emotion_recognition.h5\n",
      "Epoch 5/100\n",
      "897/897 [==============================] - 230s 257ms/step - loss: 1.7452 - accuracy: 0.2845 - val_loss: 1.5727 - val_accuracy: 0.3337\n",
      "\n",
      "Epoch 00005: val_accuracy improved from 0.31796 to 0.33371, saving model to facial_emotion_recognition.h5\n",
      "Epoch 6/100\n",
      "897/897 [==============================] - 232s 259ms/step - loss: 1.6971 - accuracy: 0.3153 - val_loss: 1.5995 - val_accuracy: 0.3551\n",
      "\n",
      "Epoch 00006: val_accuracy improved from 0.33371 to 0.35507, saving model to facial_emotion_recognition.h5\n",
      "Epoch 7/100\n",
      "897/897 [==============================] - 232s 259ms/step - loss: 1.6500 - accuracy: 0.3432 - val_loss: 1.6076 - val_accuracy: 0.3708\n",
      "\n",
      "Epoch 00007: val_accuracy improved from 0.35507 to 0.37082, saving model to facial_emotion_recognition.h5\n",
      "Epoch 8/100\n",
      "897/897 [==============================] - 240s 267ms/step - loss: 1.6154 - accuracy: 0.3598 - val_loss: 1.3193 - val_accuracy: 0.4043\n",
      "\n",
      "Epoch 00008: val_accuracy improved from 0.37082 to 0.40427, saving model to facial_emotion_recognition.h5\n",
      "Epoch 9/100\n",
      "897/897 [==============================] - 235s 262ms/step - loss: 1.5809 - accuracy: 0.3787 - val_loss: 1.8898 - val_accuracy: 0.3995\n",
      "\n",
      "Epoch 00009: val_accuracy did not improve from 0.40427\n",
      "Epoch 10/100\n",
      "897/897 [==============================] - 234s 261ms/step - loss: 1.5557 - accuracy: 0.3936 - val_loss: 1.6736 - val_accuracy: 0.3987\n",
      "\n",
      "Epoch 00010: val_accuracy did not improve from 0.40427\n",
      "Epoch 11/100\n",
      "897/897 [==============================] - 232s 258ms/step - loss: 1.5308 - accuracy: 0.4052 - val_loss: 1.5985 - val_accuracy: 0.4211\n",
      "\n",
      "Epoch 00011: val_accuracy improved from 0.40427 to 0.42114, saving model to facial_emotion_recognition.h5\n",
      "Epoch 12/100\n",
      "897/897 [==============================] - 230s 256ms/step - loss: 1.5169 - accuracy: 0.4110 - val_loss: 1.2967 - val_accuracy: 0.4273\n",
      "\n",
      "Epoch 00012: val_accuracy improved from 0.42114 to 0.42733, saving model to facial_emotion_recognition.h5\n",
      "Epoch 13/100\n",
      "897/897 [==============================] - 230s 257ms/step - loss: 1.4983 - accuracy: 0.4209 - val_loss: 1.2426 - val_accuracy: 0.4245\n",
      "\n",
      "Epoch 00013: val_accuracy did not improve from 0.42733\n",
      "Epoch 14/100\n",
      "897/897 [==============================] - 231s 257ms/step - loss: 1.4857 - accuracy: 0.4286 - val_loss: 1.2217 - val_accuracy: 0.4200\n",
      "\n",
      "Epoch 00014: val_accuracy did not improve from 0.42733\n",
      "Epoch 15/100\n",
      "897/897 [==============================] - 248s 276ms/step - loss: 1.4733 - accuracy: 0.4350 - val_loss: 1.8517 - val_accuracy: 0.4518\n",
      "\n",
      "Epoch 00015: val_accuracy improved from 0.42733 to 0.45179, saving model to facial_emotion_recognition.h5\n",
      "Epoch 16/100\n",
      "897/897 [==============================] - 265s 296ms/step - loss: 1.4612 - accuracy: 0.4395 - val_loss: 1.6295 - val_accuracy: 0.4529\n",
      "\n",
      "Epoch 00016: val_accuracy improved from 0.45179 to 0.45291, saving model to facial_emotion_recognition.h5\n",
      "Epoch 17/100\n",
      "897/897 [==============================] - 263s 293ms/step - loss: 1.4504 - accuracy: 0.4437 - val_loss: 1.5364 - val_accuracy: 0.4324\n",
      "\n",
      "Epoch 00017: val_accuracy did not improve from 0.45291\n",
      "Epoch 18/100\n",
      "897/897 [==============================] - 280s 312ms/step - loss: 1.4455 - accuracy: 0.4466 - val_loss: 1.5805 - val_accuracy: 0.4355\n",
      "\n",
      "Epoch 00018: val_accuracy did not improve from 0.45291\n",
      "Epoch 19/100\n",
      "897/897 [==============================] - 299s 333ms/step - loss: 1.4365 - accuracy: 0.4523 - val_loss: 1.1696 - val_accuracy: 0.4391\n",
      "\n",
      "Epoch 00019: val_accuracy did not improve from 0.45291\n",
      "Epoch 20/100\n",
      "897/897 [==============================] - 299s 333ms/step - loss: 1.4299 - accuracy: 0.4573 - val_loss: 1.2626 - val_accuracy: 0.4462\n",
      "\n",
      "Epoch 00020: val_accuracy did not improve from 0.45291\n",
      "Epoch 21/100\n",
      "897/897 [==============================] - 285s 318ms/step - loss: 1.4252 - accuracy: 0.4561 - val_loss: 1.8318 - val_accuracy: 0.4464\n",
      "\n",
      "Epoch 00021: val_accuracy did not improve from 0.45291\n",
      "Epoch 22/100\n",
      "897/897 [==============================] - 258s 288ms/step - loss: 1.4179 - accuracy: 0.4609 - val_loss: 1.4837 - val_accuracy: 0.4599\n",
      "\n",
      "Epoch 00022: val_accuracy improved from 0.45291 to 0.45994, saving model to facial_emotion_recognition.h5\n",
      "Epoch 23/100\n",
      "897/897 [==============================] - 255s 284ms/step - loss: 1.4111 - accuracy: 0.4647 - val_loss: 1.4540 - val_accuracy: 0.4740\n",
      "\n",
      "Epoch 00023: val_accuracy improved from 0.45994 to 0.47399, saving model to facial_emotion_recognition.h5\n",
      "Epoch 24/100\n",
      "897/897 [==============================] - 265s 295ms/step - loss: 1.4070 - accuracy: 0.4681 - val_loss: 1.3576 - val_accuracy: 0.4715\n",
      "\n",
      "Epoch 00024: val_accuracy did not improve from 0.47399\n",
      "Epoch 25/100\n",
      "897/897 [==============================] - 262s 292ms/step - loss: 1.3926 - accuracy: 0.4722 - val_loss: 1.3064 - val_accuracy: 0.4554\n",
      "\n",
      "Epoch 00025: val_accuracy did not improve from 0.47399\n",
      "Epoch 26/100\n",
      "897/897 [==============================] - 260s 290ms/step - loss: 1.3908 - accuracy: 0.4744 - val_loss: 1.8702 - val_accuracy: 0.4687\n",
      "\n",
      "Epoch 00026: val_accuracy did not improve from 0.47399\n",
      "Epoch 27/100\n",
      "897/897 [==============================] - 260s 290ms/step - loss: 1.3896 - accuracy: 0.4724 - val_loss: 1.9959 - val_accuracy: 0.4616\n",
      "\n",
      "Epoch 00027: val_accuracy did not improve from 0.47399\n",
      "Epoch 28/100\n",
      "897/897 [==============================] - 264s 294ms/step - loss: 1.3786 - accuracy: 0.4807 - val_loss: 1.6899 - val_accuracy: 0.4847\n",
      "\n",
      "Epoch 00028: val_accuracy improved from 0.47399 to 0.48468, saving model to facial_emotion_recognition.h5\n",
      "Epoch 29/100\n",
      "897/897 [==============================] - 277s 309ms/step - loss: 1.3819 - accuracy: 0.4799 - val_loss: 1.4142 - val_accuracy: 0.4779\n",
      "\n",
      "Epoch 00029: val_accuracy did not improve from 0.48468\n",
      "Epoch 30/100\n",
      "897/897 [==============================] - 267s 297ms/step - loss: 1.3754 - accuracy: 0.4812 - val_loss: 1.2537 - val_accuracy: 0.4653\n",
      "\n",
      "Epoch 00030: val_accuracy did not improve from 0.48468\n",
      "Epoch 31/100\n",
      "897/897 [==============================] - 265s 296ms/step - loss: 1.3760 - accuracy: 0.4798 - val_loss: 1.6713 - val_accuracy: 0.4802\n",
      "\n",
      "Epoch 00031: val_accuracy did not improve from 0.48468\n",
      "Epoch 32/100\n",
      "897/897 [==============================] - 284s 316ms/step - loss: 1.3700 - accuracy: 0.4846 - val_loss: 1.4240 - val_accuracy: 0.4776\n",
      "\n",
      "Epoch 00032: val_accuracy did not improve from 0.48468\n",
      "Epoch 33/100\n",
      "897/897 [==============================] - 268s 298ms/step - loss: 1.3616 - accuracy: 0.4858 - val_loss: 1.4596 - val_accuracy: 0.4507\n",
      "\n",
      "Epoch 00033: val_accuracy did not improve from 0.48468\n",
      "Epoch 34/100\n",
      "897/897 [==============================] - 279s 311ms/step - loss: 1.3586 - accuracy: 0.4878 - val_loss: 1.4152 - val_accuracy: 0.4827\n",
      "\n",
      "Epoch 00034: val_accuracy did not improve from 0.48468\n",
      "Epoch 35/100\n",
      "897/897 [==============================] - 246s 274ms/step - loss: 1.3561 - accuracy: 0.4908 - val_loss: 1.5761 - val_accuracy: 0.4689\n",
      "\n",
      "Epoch 00035: val_accuracy did not improve from 0.48468\n",
      "Epoch 36/100\n"
     ]
    },
    {
     "name": "stdout",
     "output_type": "stream",
     "text": [
      "897/897 [==============================] - 235s 262ms/step - loss: 1.3521 - accuracy: 0.4903 - val_loss: 1.5248 - val_accuracy: 0.4627\n",
      "\n",
      "Epoch 00036: val_accuracy did not improve from 0.48468\n",
      "Epoch 37/100\n",
      "897/897 [==============================] - 243s 271ms/step - loss: 1.3473 - accuracy: 0.4931 - val_loss: 1.4956 - val_accuracy: 0.4774\n",
      "\n",
      "Epoch 00037: val_accuracy did not improve from 0.48468\n",
      "Epoch 38/100\n",
      "897/897 [==============================] - 258s 287ms/step - loss: 1.3494 - accuracy: 0.4934 - val_loss: 1.0910 - val_accuracy: 0.4985\n",
      "\n",
      "Epoch 00038: val_accuracy improved from 0.48468 to 0.49845, saving model to facial_emotion_recognition.h5\n",
      "Epoch 39/100\n",
      "897/897 [==============================] - 243s 270ms/step - loss: 1.3458 - accuracy: 0.4958 - val_loss: 1.4072 - val_accuracy: 0.4698\n",
      "\n",
      "Epoch 00039: val_accuracy did not improve from 0.49845\n",
      "Epoch 40/100\n",
      "897/897 [==============================] - 240s 267ms/step - loss: 1.3377 - accuracy: 0.4972 - val_loss: 1.6326 - val_accuracy: 0.4774\n",
      "\n",
      "Epoch 00040: val_accuracy did not improve from 0.49845\n",
      "Epoch 41/100\n",
      "897/897 [==============================] - 242s 270ms/step - loss: 1.3349 - accuracy: 0.4983 - val_loss: 1.4998 - val_accuracy: 0.4889\n",
      "\n",
      "Epoch 00041: val_accuracy did not improve from 0.49845\n",
      "Epoch 42/100\n",
      "897/897 [==============================] - 272s 303ms/step - loss: 1.3299 - accuracy: 0.5014 - val_loss: 1.7337 - val_accuracy: 0.4906\n",
      "\n",
      "Epoch 00042: val_accuracy did not improve from 0.49845\n",
      "Epoch 43/100\n",
      "897/897 [==============================] - 289s 322ms/step - loss: 1.3324 - accuracy: 0.4978 - val_loss: 1.4718 - val_accuracy: 0.4703\n",
      "\n",
      "Epoch 00043: val_accuracy did not improve from 0.49845\n",
      "Epoch 44/100\n",
      "897/897 [==============================] - 274s 305ms/step - loss: 1.3240 - accuracy: 0.5063 - val_loss: 1.5814 - val_accuracy: 0.4529\n",
      "\n",
      "Epoch 00044: val_accuracy did not improve from 0.49845\n",
      "Epoch 45/100\n",
      "897/897 [==============================] - 263s 294ms/step - loss: 1.3206 - accuracy: 0.5054 - val_loss: 1.3825 - val_accuracy: 0.4864\n",
      "\n",
      "Epoch 00045: val_accuracy did not improve from 0.49845\n",
      "Epoch 46/100\n",
      "897/897 [==============================] - 286s 319ms/step - loss: 1.3282 - accuracy: 0.5043 - val_loss: 0.8921 - val_accuracy: 0.5010\n",
      "\n",
      "Epoch 00046: val_accuracy improved from 0.49845 to 0.50098, saving model to facial_emotion_recognition.h5\n",
      "Epoch 47/100\n",
      "897/897 [==============================] - 293s 327ms/step - loss: 1.3236 - accuracy: 0.5056 - val_loss: 1.5798 - val_accuracy: 0.5080\n",
      "\n",
      "Epoch 00047: val_accuracy improved from 0.50098 to 0.50801, saving model to facial_emotion_recognition.h5\n",
      "Epoch 48/100\n",
      "897/897 [==============================] - 253s 282ms/step - loss: 1.3190 - accuracy: 0.5084 - val_loss: 1.4676 - val_accuracy: 0.5052\n",
      "\n",
      "Epoch 00048: val_accuracy did not improve from 0.50801\n",
      "Epoch 49/100\n",
      "897/897 [==============================] - 232s 259ms/step - loss: 1.3226 - accuracy: 0.5050 - val_loss: 1.4641 - val_accuracy: 0.4785\n",
      "\n",
      "Epoch 00049: val_accuracy did not improve from 0.50801\n",
      "Epoch 50/100\n",
      "897/897 [==============================] - 230s 256ms/step - loss: 1.3116 - accuracy: 0.5089 - val_loss: 1.5241 - val_accuracy: 0.4706\n",
      "\n",
      "Epoch 00050: val_accuracy did not improve from 0.50801\n",
      "Epoch 51/100\n",
      "897/897 [==============================] - 230s 256ms/step - loss: 1.3121 - accuracy: 0.5077 - val_loss: 1.5230 - val_accuracy: 0.4762\n",
      "\n",
      "Epoch 00051: val_accuracy did not improve from 0.50801\n",
      "Epoch 52/100\n",
      "897/897 [==============================] - 230s 256ms/step - loss: 1.3050 - accuracy: 0.5120 - val_loss: 1.4440 - val_accuracy: 0.5089\n",
      "\n",
      "Epoch 00052: val_accuracy improved from 0.50801 to 0.50886, saving model to facial_emotion_recognition.h5\n",
      "Epoch 53/100\n",
      "897/897 [==============================] - 229s 256ms/step - loss: 1.3052 - accuracy: 0.5127 - val_loss: 1.1764 - val_accuracy: 0.4838\n",
      "\n",
      "Epoch 00053: val_accuracy did not improve from 0.50886\n",
      "Epoch 54/100\n",
      "897/897 [==============================] - 229s 256ms/step - loss: 1.3075 - accuracy: 0.5093 - val_loss: 1.0513 - val_accuracy: 0.4897\n",
      "\n",
      "Epoch 00054: val_accuracy did not improve from 0.50886\n",
      "Epoch 55/100\n",
      "897/897 [==============================] - 229s 255ms/step - loss: 1.3070 - accuracy: 0.5130 - val_loss: 1.3516 - val_accuracy: 0.4993\n",
      "\n",
      "Epoch 00055: val_accuracy did not improve from 0.50886\n",
      "Epoch 56/100\n",
      "897/897 [==============================] - 229s 256ms/step - loss: 1.3018 - accuracy: 0.5103 - val_loss: 1.4102 - val_accuracy: 0.5018\n",
      "\n",
      "Epoch 00056: val_accuracy did not improve from 0.50886\n",
      "Epoch 57/100\n",
      "897/897 [==============================] - 229s 255ms/step - loss: 1.2985 - accuracy: 0.5164 - val_loss: 1.6215 - val_accuracy: 0.4934\n",
      "\n",
      "Epoch 00057: val_accuracy did not improve from 0.50886\n",
      "Epoch 58/100\n",
      "897/897 [==============================] - 231s 257ms/step - loss: 1.2973 - accuracy: 0.5152 - val_loss: 1.3951 - val_accuracy: 0.5072\n",
      "\n",
      "Epoch 00058: val_accuracy did not improve from 0.50886\n",
      "Epoch 59/100\n",
      "897/897 [==============================] - 229s 256ms/step - loss: 1.2932 - accuracy: 0.5156 - val_loss: 1.3963 - val_accuracy: 0.4945\n",
      "\n",
      "Epoch 00059: val_accuracy did not improve from 0.50886\n",
      "Epoch 60/100\n",
      "897/897 [==============================] - 229s 256ms/step - loss: 1.2920 - accuracy: 0.5155 - val_loss: 1.5481 - val_accuracy: 0.5044\n",
      "\n",
      "Epoch 00060: val_accuracy did not improve from 0.50886\n",
      "Epoch 61/100\n",
      "897/897 [==============================] - 229s 255ms/step - loss: 1.2966 - accuracy: 0.5177 - val_loss: 1.4165 - val_accuracy: 0.4956\n",
      "\n",
      "Epoch 00061: val_accuracy did not improve from 0.50886\n",
      "Epoch 62/100\n",
      "897/897 [==============================] - 230s 256ms/step - loss: 1.2892 - accuracy: 0.5152 - val_loss: 1.5092 - val_accuracy: 0.4793\n",
      "\n",
      "Epoch 00062: val_accuracy did not improve from 0.50886\n",
      "Epoch 63/100\n",
      "897/897 [==============================] - 229s 256ms/step - loss: 1.2863 - accuracy: 0.5187 - val_loss: 1.5950 - val_accuracy: 0.5041\n",
      "\n",
      "Epoch 00063: val_accuracy did not improve from 0.50886\n",
      "Epoch 64/100\n",
      "897/897 [==============================] - 230s 256ms/step - loss: 1.2840 - accuracy: 0.5192 - val_loss: 1.7902 - val_accuracy: 0.4906\n",
      "\n",
      "Epoch 00064: val_accuracy did not improve from 0.50886\n",
      "Epoch 65/100\n",
      "897/897 [==============================] - 229s 256ms/step - loss: 1.2856 - accuracy: 0.5193 - val_loss: 1.6989 - val_accuracy: 0.5035\n",
      "\n",
      "Epoch 00065: val_accuracy did not improve from 0.50886\n",
      "Epoch 66/100\n",
      "897/897 [==============================] - 230s 256ms/step - loss: 1.2788 - accuracy: 0.5202 - val_loss: 1.3059 - val_accuracy: 0.5021\n",
      "\n",
      "Epoch 00066: val_accuracy did not improve from 0.50886\n",
      "Epoch 67/100\n",
      "897/897 [==============================] - 229s 256ms/step - loss: 1.2928 - accuracy: 0.5192 - val_loss: 1.3509 - val_accuracy: 0.5004\n",
      "\n",
      "Epoch 00067: val_accuracy did not improve from 0.50886\n",
      "Restoring model weights from the end of the best epoch\n",
      "Epoch 00067: early stopping\n"
     ]
    }
   ],
   "source": [
    "time1 = time.time()\n",
    "history = model.fit_generator(train_generator,\n",
    "                             validation_data=validation_generator,\n",
    "                             epochs=epochs,\n",
    "                             steps_per_epoch=train_dataset_count//batch_size,\n",
    "                             validation_steps=validation_dataset_count//batch_size,\n",
    "                             callbacks=callbacks)\n",
    "time2 = time.time()"
   ]
  },
  {
   "cell_type": "code",
   "execution_count": 10,
   "metadata": {},
   "outputs": [
    {
     "name": "stdout",
     "output_type": "stream",
     "text": [
      "277.41478083531064 mins\n"
     ]
    }
   ],
   "source": [
    "print(f'{(time2 - time1)/60} mins')"
   ]
  },
  {
   "cell_type": "code",
   "execution_count": 11,
   "metadata": {},
   "outputs": [
    {
     "data": {
      "text/plain": [
       "dict_keys(['val_loss', 'val_accuracy', 'loss', 'accuracy'])"
      ]
     },
     "execution_count": 11,
     "metadata": {},
     "output_type": "execute_result"
    }
   ],
   "source": [
    "history.history.keys()"
   ]
  },
  {
   "cell_type": "code",
   "execution_count": 12,
   "metadata": {},
   "outputs": [
    {
     "data": {
      "image/png": "[encoded data removed]",
      "text/plain": [
       "<Figure size 432x288 with 1 Axes>"
      ]
     },
     "metadata": {
      "needs_background": "light"
     },
     "output_type": "display_data"
    }
   ],
   "source": [
    "#Accuracy plotting\n",
    "plt.plot(history.history['accuracy'], label='train_acc')\n",
    "plt.plot(history.history['val_accuracy'], label='val_acc')\n",
    "plt.title('model accuracy')\n",
    "plt.ylabel('accuracy')\n",
    "plt.xlabel('epochs')\n",
    "plt.legend()\n",
    "plt.grid()\n",
    "plt.show()"
   ]
  },
  {
   "cell_type": "code",
   "execution_count": 13,
   "metadata": {},
   "outputs": [
    {
     "data": {
      "image/png": "[encoded data removed]",
      "text/plain": [
       "<Figure size 432x288 with 1 Axes>"
      ]
     },
     "metadata": {
      "needs_background": "light"
     },
     "output_type": "display_data"
    }
   ],
   "source": [
    "#Loss plotting\n",
    "plt.plot(history.history['loss'], label='train_loss')\n",
    "plt.plot(history.history['val_loss'], label='val_loss')\n",
    "plt.title('model loss')\n",
    "plt.ylabel('loss')\n",
    "plt.xlabel('epochs')\n",
    "plt.legend()\n",
    "plt.grid()\n",
    "plt.show()"
   ]
  },
  {
   "cell_type": "code",
   "execution_count": null,
   "metadata": {},
   "outputs": [],
   "source": []
  }
 ],
 "metadata": {
  "kernelspec": {
   "display_name": "Python 3",
   "language": "python",
   "name": "python3"
  },
  "language_info": {
   "codemirror_mode": {
    "name": "ipython",
    "version": 3
   },
   "file_extension": ".py",
   "mimetype": "text/x-python",
   "name": "python",
   "nbconvert_exporter": "python",
   "pygments_lexer": "ipython3",
   "version": "3.7.4"
  }
 },
 "nbformat": 4,
 "nbformat_minor": 2
}
